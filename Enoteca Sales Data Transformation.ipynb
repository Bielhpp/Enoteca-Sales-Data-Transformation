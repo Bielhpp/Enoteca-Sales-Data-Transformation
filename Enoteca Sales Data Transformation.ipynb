{
 "cells": [
  {
   "cell_type": "code",
   "execution_count": 0,
   "metadata": {
    "application/vnd.databricks.v1+cell": {
     "cellMetadata": {
      "byteLimit": 2048000,
      "rowLimit": 10000
     },
     "inputWidgets": {},
     "nuid": "70f295ec-a411-4270-a072-a68181d9dd41",
     "showTitle": false,
     "title": ""
    }
   },
   "outputs": [
    {
     "output_type": "stream",
     "name": "stdout",
     "output_type": "stream",
     "text": [
      "+--------------------+--------------------+------+-----+-----------+------+-----+--------+---------------+-----------+\n|             Cliente|             Produto|Código| Qtde|Preço Médio| Valor|Frete|Desconto|Outras despesas|Total Venda|\n+--------------------+--------------------+------+-----+-----------+------+-----+--------+---------------+-----------+\n|Adailton e Willian  |                NULL|  NULL| 1,00|      67,00| 67,00| 0,00|    0,00|           0,00|      67,00|\n|                    |Vinho Adega Grand...|  NULL| 1,00|      67,00| 67,00| 0,00|    0,00|           0,00|      67,00|\n|            ADEPOM  |                NULL|  NULL|18,00|      43,56|784,00| 0,00|    0,00|           0,00|     784,00|\n|                    |Cachaça Engenho C...|  NULL| 2,00|      65,00|130,00| 0,00|    0,00|           0,00|     130,00|\n|                    |Cerveja Langerwis...|  NULL| 1,00|      26,00| 26,00| 0,00|    0,00|           0,00|      26,00|\n|                    |Cerveja Langerwis...|  NULL| 4,00|      25,00|100,00| 0,00|    0,00|           0,00|     100,00|\n|                    |Cerveja Langerwis...|  NULL| 1,00|      29,00| 29,00| 0,00|    0,00|           0,00|      29,00|\n|                    |Cerveja Langerwis...|  NULL| 2,00|      15,00| 30,00| 0,00|    0,00|           0,00|      30,00|\n|                    |      Prato Sardella|  NULL| 2,00|      34,00| 68,00| 0,00|    0,00|           0,00|      68,00|\n|                    |Ratatuile Cucina ...|  NULL| 2,00|      35,00| 70,00| 0,00|    0,00|           0,00|      70,00|\n|                    |Risoto Il Riso Sa...|  NULL| 1,00|      52,00| 52,00| 0,00|    0,00|           0,00|      52,00|\n|                    |Vinho Adega Grand...|  NULL| 1,00|      77,00| 77,00| 0,00|    0,00|           0,00|      77,00|\n|                    |Vinho LA Classico...|  NULL| 1,00|     127,00|127,00| 0,00|    0,00|           0,00|     127,00|\n|                    |Vinho Sete Colore...|  NULL| 1,00|      75,00| 75,00| 0,00|    0,00|           0,00|      75,00|\n|     Alex e Camila  |                NULL|  NULL|12,00|      46,50|558,00| 0,00|    0,00|           0,00|     558,00|\n|                    |Alichella Cucina ...|  NULL| 1,00|      35,00| 35,00| 0,00|    0,00|           0,00|      35,00|\n|                    |          Bolo fatia|  NULL| 1,00|       7,00|  7,00| 0,00|    0,00|           0,00|       7,00|\n|                    |             Brownie|  NULL| 1,00|      10,00| 10,00| 0,00|    0,00|           0,00|      10,00|\n|                    |       Café expresso|  NULL| 1,00|       7,00|  7,00| 0,00|    0,00|           0,00|       7,00|\n|                    |Ref Coca Cola Tip...|  NULL| 1,00|       8,00|  8,00| 0,00|    0,00|           0,00|       8,00|\n+--------------------+--------------------+------+-----+-----------+------+-----+--------+---------------+-----------+\nonly showing top 20 rows\n\n"
     ]
    }
   ],
   "source": [
    "from pyspark.sql import SparkSession\n",
    "\n",
    "spark = SparkSession.builder.appName('projCasaTardeli').getOrCreate() \n",
    "dataCasaTardeli = \"/FileStore/tables/CasaTardeli_04_10_23.csv\"\n",
    "\n",
    "data = spark.read.csv(dataCasaTardeli, sep=\";\", header=True, inferSchema=True)\n",
    "\n",
    "# Exibir o DataFrame do Spark\n",
    "data.show()"
   ]
  },
  {
   "cell_type": "code",
   "execution_count": 0,
   "metadata": {
    "application/vnd.databricks.v1+cell": {
     "cellMetadata": {
      "byteLimit": 2048000,
      "rowLimit": 10000
     },
     "inputWidgets": {},
     "nuid": "f04bb544-acab-4eae-99d9-80987de3377b",
     "showTitle": false,
     "title": ""
    }
   },
   "outputs": [
    {
     "output_type": "display_data",
     "data": {
      "text/html": [
       "<style scoped>\n",
       "  .table-result-container {\n",
       "    max-height: 300px;\n",
       "    overflow: auto;\n",
       "  }\n",
       "  table, th, td {\n",
       "    border: 1px solid black;\n",
       "    border-collapse: collapse;\n",
       "  }\n",
       "  th, td {\n",
       "    padding: 5px;\n",
       "  }\n",
       "  th {\n",
       "    text-align: left;\n",
       "  }\n",
       "</style><div class='table-result-container'><table class='table-result'><thead style='background-color: white'><tr><th>path</th><th>name</th><th>size</th><th>modificationTime</th></tr></thead><tbody><tr><td>dbfs:/FileStore/tables/CasaTardeli_04_10_23.csv</td><td>CasaTardeli_04_10_23.csv</td><td>66486</td><td>1697073236000</td></tr><tr><td>dbfs:/FileStore/tables/CasaTardeli_Transf.csv/</td><td>CasaTardeli_Transf.csv/</td><td>0</td><td>0</td></tr><tr><td>dbfs:/FileStore/tables/final_output.csv/</td><td>final_output.csv/</td><td>0</td><td>0</td></tr></tbody></table></div>"
      ]
     },
     "metadata": {
      "application/vnd.databricks.v1+output": {
       "addedWidgets": {},
       "aggData": [],
       "aggError": "",
       "aggOverflow": false,
       "aggSchema": [],
       "aggSeriesLimitReached": false,
       "aggType": "",
       "arguments": {},
       "columnCustomDisplayInfos": {},
       "data": [
        [
         "dbfs:/FileStore/tables/CasaTardeli_04_10_23.csv",
         "CasaTardeli_04_10_23.csv",
         66486,
         1697073236000
        ],
        [
         "dbfs:/FileStore/tables/CasaTardeli_Transf.csv/",
         "CasaTardeli_Transf.csv/",
         0,
         0
        ],
        [
         "dbfs:/FileStore/tables/final_output.csv/",
         "final_output.csv/",
         0,
         0
        ]
       ],
       "datasetInfos": [],
       "dbfsResultPath": null,
       "isJsonSchema": true,
       "metadata": {
        "isDbfsCommandResult": false
       },
       "overflow": false,
       "plotOptions": {
        "customPlotOptions": {},
        "displayType": "table",
        "pivotAggregation": null,
        "pivotColumns": null,
        "xColumns": null,
        "yColumns": null
       },
       "removedWidgets": [],
       "schema": [
        {
         "metadata": "{}",
         "name": "path",
         "type": "\"string\""
        },
        {
         "metadata": "{}",
         "name": "name",
         "type": "\"string\""
        },
        {
         "metadata": "{}",
         "name": "size",
         "type": "\"long\""
        },
        {
         "metadata": "{}",
         "name": "modificationTime",
         "type": "\"long\""
        }
       ],
       "type": "table"
      }
     },
     "output_type": "display_data"
    }
   ],
   "source": [
    "%fs ls /FileStore/tables/"
   ]
  },
  {
   "cell_type": "code",
   "execution_count": 0,
   "metadata": {
    "application/vnd.databricks.v1+cell": {
     "cellMetadata": {
      "byteLimit": 2048000,
      "rowLimit": 10000
     },
     "inputWidgets": {},
     "nuid": "3339eff2-e01a-4a39-90bc-039952946a41",
     "showTitle": false,
     "title": ""
    }
   },
   "outputs": [
    {
     "output_type": "stream",
     "name": "stdout",
     "output_type": "stream",
     "text": [
      "+------------------+--------------------+----+-----------+-----+-----+--------+---------------+-----------+\n|           Cliente|             Produto|Qtde|Preço Médio|Valor|Frete|Desconto|Outras despesas|Total Venda|\n+------------------+--------------------+----+-----------+-----+-----+--------+---------------+-----------+\n|Adailton e Willian|Vinho Adega Grand...| 1.0|       67.0| 67.0|  0.0|     0.0|            0.0|       67.0|\n|            ADEPOM|Cachaça Engenho C...| 2.0|       65.0|130.0|  0.0|     0.0|            0.0|      130.0|\n|            ADEPOM|Cerveja Langerwis...| 1.0|       26.0| 26.0|  0.0|     0.0|            0.0|       26.0|\n|            ADEPOM|Cerveja Langerwis...| 4.0|       25.0|100.0|  0.0|     0.0|            0.0|      100.0|\n|            ADEPOM|Cerveja Langerwis...| 1.0|       29.0| 29.0|  0.0|     0.0|            0.0|       29.0|\n|            ADEPOM|Cerveja Langerwis...| 2.0|       15.0| 30.0|  0.0|     0.0|            0.0|       30.0|\n|            ADEPOM|      Prato Sardella| 2.0|       34.0| 68.0|  0.0|     0.0|            0.0|       68.0|\n|            ADEPOM|Ratatuile Cucina ...| 2.0|       35.0| 70.0|  0.0|     0.0|            0.0|       70.0|\n|            ADEPOM|Risoto Il Riso Sa...| 1.0|       52.0| 52.0|  0.0|     0.0|            0.0|       52.0|\n|            ADEPOM|Vinho Adega Grand...| 1.0|       77.0| 77.0|  0.0|     0.0|            0.0|       77.0|\n|            ADEPOM|Vinho LA Classico...| 1.0|      127.0|127.0|  0.0|     0.0|            0.0|      127.0|\n|            ADEPOM|Vinho Sete Colore...| 1.0|       75.0| 75.0|  0.0|     0.0|            0.0|       75.0|\n|     Alex e Camila|Alichella Cucina ...| 1.0|       35.0| 35.0|  0.0|     0.0|            0.0|       35.0|\n|     Alex e Camila|          Bolo fatia| 1.0|        7.0|  7.0|  0.0|     0.0|            0.0|        7.0|\n|     Alex e Camila|             Brownie| 1.0|       10.0| 10.0|  0.0|     0.0|            0.0|       10.0|\n|     Alex e Camila|       Café expresso| 1.0|        7.0|  7.0|  0.0|     0.0|            0.0|        7.0|\n|     Alex e Camila|Ref Coca Cola Tip...| 1.0|        8.0|  8.0|  0.0|     0.0|            0.0|        8.0|\n|     Alex e Camila|Sardella Cucina d...| 1.0|       35.0| 35.0|  0.0|     0.0|            0.0|       35.0|\n|     Alex e Camila| Uma porção de ellas| 1.0|       42.0| 42.0|  0.0|     0.0|            0.0|       42.0|\n|     Alex e Camila|Vinho Carta Vieja...| 1.0|       42.0| 42.0|  0.0|     0.0|            0.0|       42.0|\n+------------------+--------------------+----+-----------+-----+-----+--------+---------------+-----------+\nonly showing top 20 rows\n\n"
     ]
    }
   ],
   "source": [
    "import pandas as pd\n",
    "from pyspark.sql import SparkSession\n",
    "\n",
    "spark = SparkSession.builder.appName('projCasaTardeli').getOrCreate()\n",
    "\n",
    "df = spark.read.csv(dataCasaTardeli, sep=\";\", header=True, inferSchema=True)\n",
    "\n",
    "# Converter DataFrame do Spark para um DataFrame do Pandas\n",
    "df = df.toPandas()\n",
    "\n",
    "# Setar cliente como nulo se não tiver valor definido\n",
    "df['Cliente'] = df['Cliente'].str.strip().replace('', pd.NA)\n",
    "\n",
    "# Completar linhas nulas da coluna \"Cliente\" com o último valor não nulo\n",
    "df['Cliente'].fillna(method='ffill', inplace=True)\n",
    "\n",
    "# Remover última linha\n",
    "df = df.iloc[:-1]\n",
    "\n",
    "# Remover linhas onde o produto está nulo\n",
    "df = df.dropna(subset=['Produto'])\n",
    "\n",
    "# Converter números em string para decimal\n",
    "columns_to_convert = ['Qtde', 'Preço Médio', 'Valor', 'Frete', 'Desconto', 'Outras despesas', 'Total Venda']\n",
    "df[columns_to_convert] = df[columns_to_convert].applymap(lambda x: float(x.replace('.', '').replace(',', '.')))\n",
    "df = df.drop(\"Código\", axis=1)\n",
    "\n",
    "# Exibir o DataFrame do Pandas\n",
    "#print(df)\n",
    "\n",
    "# Se você precisar converter o DataFrame do Pandas de volta para um DataFrame do Spark, você pode fazer isso:\n",
    "data = spark.createDataFrame(df)\n",
    "data.show()\n",
    "\n",
    "\n"
   ]
  },
  {
   "cell_type": "code",
   "execution_count": 0,
   "metadata": {
    "application/vnd.databricks.v1+cell": {
     "cellMetadata": {
      "byteLimit": 2048000,
      "rowLimit": 10000
     },
     "inputWidgets": {},
     "nuid": "17f4968d-ce53-41f4-b626-922ec4e8020b",
     "showTitle": false,
     "title": ""
    }
   },
   "outputs": [],
   "source": [
    "# Salvando versão final transformada em \".cvs\" patra manusear no DataBricks, Power Query, etc.\n",
    "df = data.toPandas()  # Convertendo para um DataFrame do Pandas\n",
    "df.to_csv(\"enoteca.csv\", index=True)  # Salvando como CSV\n"
   ]
  }
 ],
 "metadata": {
  "application/vnd.databricks.v1+notebook": {
   "dashboards": [],
   "language": "python",
   "notebookMetadata": {
    "mostRecentlyExecutedCommandWithImplicitDF": {
     "commandId": 916963473115643,
     "dataframes": [
      "_sqldf"
     ]
    },
    "pythonIndentUnit": 4
   },
   "notebookName": "CasaTardelli 2023 - 14-10-23",
   "widgets": {}
  }
 },
 "nbformat": 4,
 "nbformat_minor": 0
}
